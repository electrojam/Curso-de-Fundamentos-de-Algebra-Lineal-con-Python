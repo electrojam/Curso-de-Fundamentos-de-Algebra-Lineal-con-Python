{
 "cells": [
  {
   "cell_type": "code",
   "execution_count": 1,
   "id": "8169b8aa",
   "metadata": {},
   "outputs": [],
   "source": [
    "import numpy as np"
   ]
  },
  {
   "cell_type": "code",
   "execution_count": 4,
   "id": "53b7b490",
   "metadata": {},
   "outputs": [
    {
     "name": "stdout",
     "output_type": "stream",
     "text": [
      "4.0\n"
     ]
    }
   ],
   "source": [
    "vector = np.array([1,2,0,5,6,0])\n",
    "\n",
    "print(np.linalg.norm(vector, ord=0)) # calculamos L0 norma 0\n",
    "\n",
    "# El resultado es 4.0 elementos del vector distintos de 0"
   ]
  },
  {
   "cell_type": "code",
   "execution_count": 6,
   "id": "08eaa973",
   "metadata": {},
   "outputs": [
    {
     "name": "stdout",
     "output_type": "stream",
     "text": [
      "5.0\n"
     ]
    }
   ],
   "source": [
    "vector = np.array([1,-1,1,-1,1])\n",
    "\n",
    "print(np.linalg.norm(vector, ord=1)) # calculamos L1 norma 1\n",
    "\n",
    "# el resultado es 5.0 porque suma los valores absolutos de todos los elementos del vector"
   ]
  },
  {
   "cell_type": "code",
   "execution_count": 7,
   "id": "abb3490c",
   "metadata": {},
   "outputs": [],
   "source": [
    "vector = np.array([1,1])"
   ]
  },
  {
   "cell_type": "code",
   "execution_count": 9,
   "id": "5cf6de3e",
   "metadata": {},
   "outputs": [
    {
     "name": "stdout",
     "output_type": "stream",
     "text": [
      "1.4142135623730951\n",
      "1.4142135623730951\n"
     ]
    }
   ],
   "source": [
    "print(np.linalg.norm(vector)) # calculamos L2 norma 2\n",
    "print(np.linalg.norm(vector, ord=2)) # funci;ón norm de numpy nos devuelve por defecto L2 la norma 2"
   ]
  },
  {
   "cell_type": "code",
   "execution_count": 10,
   "id": "3caf37cd",
   "metadata": {},
   "outputs": [
    {
     "name": "stdout",
     "output_type": "stream",
     "text": [
      "[1 2 3 4 5 6]\n"
     ]
    }
   ],
   "source": [
    "vector = np.array([1,2,3,4,5,6])\n",
    "\n",
    "print(vector)"
   ]
  },
  {
   "cell_type": "code",
   "execution_count": 12,
   "id": "9136c07a",
   "metadata": {},
   "outputs": [
    {
     "name": "stdout",
     "output_type": "stream",
     "text": [
      "91.0\n"
     ]
    }
   ],
   "source": [
    "print(np.linalg.norm(vector, ord=2)**2) # calculamos L2**2 norma 2**2"
   ]
  },
  {
   "cell_type": "code",
   "execution_count": 14,
   "id": "816ed65e",
   "metadata": {},
   "outputs": [
    {
     "name": "stdout",
     "output_type": "stream",
     "text": [
      "91\n"
     ]
    }
   ],
   "source": [
    "print(vector.T.dot(vector)) # calculamos L2**2 norma 2**2 mediante producto interno del mismo vector."
   ]
  },
  {
   "cell_type": "code",
   "execution_count": 16,
   "id": "980cef3b",
   "metadata": {},
   "outputs": [
    {
     "name": "stdout",
     "output_type": "stream",
     "text": [
      "100.0\n"
     ]
    }
   ],
   "source": [
    "vector = np.array([1,0,3,-100])\n",
    "\n",
    "print(np.linalg.norm(vector, ord=np.inf)) # calculamos Linfinito, el maximo valor absoluto entre los elementos del vector"
   ]
  },
  {
   "cell_type": "code",
   "execution_count": null,
   "id": "d651a75f",
   "metadata": {},
   "outputs": [],
   "source": []
  }
 ],
 "metadata": {
  "kernelspec": {
   "display_name": "Python 3 (ipykernel)",
   "language": "python",
   "name": "python3"
  },
  "language_info": {
   "codemirror_mode": {
    "name": "ipython",
    "version": 3
   },
   "file_extension": ".py",
   "mimetype": "text/x-python",
   "name": "python",
   "nbconvert_exporter": "python",
   "pygments_lexer": "ipython3",
   "version": "3.7.1"
  }
 },
 "nbformat": 4,
 "nbformat_minor": 5
}
