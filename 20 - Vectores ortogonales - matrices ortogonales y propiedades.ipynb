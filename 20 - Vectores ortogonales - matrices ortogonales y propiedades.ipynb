{
 "cells": [
  {
   "cell_type": "code",
   "execution_count": 1,
   "id": "14e63233",
   "metadata": {},
   "outputs": [],
   "source": [
    "%matplotlib inline\n",
    "\n",
    "import numpy as np\n",
    "import matplotlib.pyplot as plt"
   ]
  },
  {
   "cell_type": "code",
   "execution_count": 6,
   "id": "cbccab2c",
   "metadata": {},
   "outputs": [
    {
     "data": {
      "image/png": "[encoded data removed]",
      "text/plain": [
       "<Figure size 640x480 with 1 Axes>"
      ]
     },
     "metadata": {},
     "output_type": "display_data"
    }
   ],
   "source": [
    "x = np.array([0,0,2,2])\n",
    "y = np.array([0,0,2,-2])\n",
    "\n",
    "plt.quiver(\n",
    "    [x[0], y[0]],\n",
    "    [x[1], y[1]],\n",
    "    [x[2], y[2]],\n",
    "    [x[3], y[3]],\n",
    "    angles = 'xy',\n",
    "    scale_units = 'xy',\n",
    "    scale = 1\n",
    ")\n",
    "\n",
    "plt.xlim(-3,3)\n",
    "plt.ylim(-3,3)\n",
    "\n",
    "plt.show()"
   ]
  },
  {
   "cell_type": "code",
   "execution_count": 7,
   "id": "17440ad3",
   "metadata": {},
   "outputs": [
    {
     "name": "stdout",
     "output_type": "stream",
     "text": [
      "[[0]]\n"
     ]
    }
   ],
   "source": [
    "# Vamos a comprobar que los dos vectores anteriores forman un ;ángulo de 90° entre ellos \n",
    "# mediante producto interno\n",
    "\n",
    "v1 = np.array([[2,2]])\n",
    "v2 = np.array([[2,-2]])\n",
    "\n",
    "print(v1.dot(v2.T))\n",
    "\n",
    "# Al devolver 0 quiere decir que su ;ángulo es de 90 grados entre ellos"
   ]
  },
  {
   "cell_type": "code",
   "execution_count": 9,
   "id": "65d64936",
   "metadata": {},
   "outputs": [
    {
     "name": "stdout",
     "output_type": "stream",
     "text": [
      "2.8284271247461903\n",
      "2.8284271247461903\n"
     ]
    }
   ],
   "source": [
    "# Verificaremos si estos dos vectores son ortonormales\n",
    "\n",
    "print(np.linalg.norm(v1))\n",
    "print(np.linalg.norm(v2))\n",
    "\n",
    "# el resultado es que los vectores no son ortonormales porque su norma es diferente de 1."
   ]
  },
  {
   "cell_type": "code",
   "execution_count": 10,
   "id": "7ca005dd",
   "metadata": {},
   "outputs": [],
   "source": [
    "# Verificaremos si otros dos vectores son ortonormales\n",
    "\n",
    "v1 = np.array([[1,0]])\n",
    "v2 = np.array([[0,-1]])"
   ]
  },
  {
   "cell_type": "code",
   "execution_count": 12,
   "id": "7256e01f",
   "metadata": {},
   "outputs": [
    {
     "name": "stdout",
     "output_type": "stream",
     "text": [
      "[[0]]\n"
     ]
    }
   ],
   "source": [
    "print(v1.dot(v2.T)) # son vectores ortogonales ;ángulo entre ellos 90°"
   ]
  },
  {
   "cell_type": "code",
   "execution_count": 13,
   "id": "c13a43fc",
   "metadata": {},
   "outputs": [
    {
     "name": "stdout",
     "output_type": "stream",
     "text": [
      "1.0\n",
      "1.0\n"
     ]
    }
   ],
   "source": [
    "# Verificaremos si estos dos vectores son ortonormales\n",
    "\n",
    "print(np.linalg.norm(v1))\n",
    "print(np.linalg.norm(v2))\n",
    "\n",
    "# El resultado es que son ortonormales porque su norma es igual a 1"
   ]
  },
  {
   "cell_type": "code",
   "execution_count": null,
   "id": "ec213c48",
   "metadata": {},
   "outputs": [],
   "source": []
  }
 ],
 "metadata": {
  "kernelspec": {
   "display_name": "Python 3 (ipykernel)",
   "language": "python",
   "name": "python3"
  },
  "language_info": {
   "codemirror_mode": {
    "name": "ipython",
    "version": 3
   },
   "file_extension": ".py",
   "mimetype": "text/x-python",
   "name": "python",
   "nbconvert_exporter": "python",
   "pygments_lexer": "ipython3",
   "version": "3.7.1"
  }
 },
 "nbformat": 4,
 "nbformat_minor": 5
}
