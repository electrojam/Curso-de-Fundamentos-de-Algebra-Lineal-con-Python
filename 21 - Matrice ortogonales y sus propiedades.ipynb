{
 "cells": [
  {
   "cell_type": "code",
   "execution_count": 1,
   "id": "76ec2f65",
   "metadata": {},
   "outputs": [],
   "source": [
    "import numpy as np"
   ]
  },
  {
   "cell_type": "code",
   "execution_count": 4,
   "id": "6a88db4b",
   "metadata": {},
   "outputs": [
    {
     "name": "stdout",
     "output_type": "stream",
     "text": [
      "[[1 0 0]\n",
      " [0 1 0]\n",
      " [0 0 1]]\n"
     ]
    }
   ],
   "source": [
    "matriz = np.array([\n",
    "    [1,0,0],\n",
    "    [0,1,0],\n",
    "    [0,0,1]\n",
    "])\n",
    "\n",
    "print(matriz)"
   ]
  },
  {
   "cell_type": "code",
   "execution_count": 5,
   "id": "42a5da4a",
   "metadata": {},
   "outputs": [],
   "source": [
    "# Verificaremos si matriz es ortogonal, comporbando que sus columnas y filas son mutuamente ortonormales, \n",
    "# para eso necesitamos comprobar que son ortogonales y con norma 1\n",
    "\n",
    "#Necesitaremos realizar 3 verificaciones por columnas porque la matriz es 3x3\n",
    "# v1 ortogonal v2\n",
    "# v1 ortogonal v3\n",
    "# v2 ortogonal v3"
   ]
  },
  {
   "cell_type": "code",
   "execution_count": 6,
   "id": "07516f02",
   "metadata": {},
   "outputs": [
    {
     "name": "stdout",
     "output_type": "stream",
     "text": [
      "0\n"
     ]
    }
   ],
   "source": [
    "# v1 ortogonal v2 columnas\n",
    "#seleccionamos la primer columna de la matriz [:,0] hacemos producto interno con la segunda columna de la matriz [:,1]\n",
    "\n",
    "print(matriz[:,0].dot(matriz[:,1])) # si resultado prod inter es 0, son ortogonales"
   ]
  },
  {
   "cell_type": "code",
   "execution_count": 8,
   "id": "6dc5b5d6",
   "metadata": {},
   "outputs": [
    {
     "name": "stdout",
     "output_type": "stream",
     "text": [
      "0\n"
     ]
    }
   ],
   "source": [
    "# v1 ortogonal v3 columnas\n",
    "#seleccionamos la primer columna de la matriz [:,0] hacemos producto interno con la tercera columna de la matriz [:,2]\n",
    "\n",
    "print(matriz[:,0].dot(matriz[:,2])) # si resultado prod inter es 0, son ortogonales"
   ]
  },
  {
   "cell_type": "code",
   "execution_count": 13,
   "id": "938268c9",
   "metadata": {},
   "outputs": [
    {
     "name": "stdout",
     "output_type": "stream",
     "text": [
      "0\n"
     ]
    }
   ],
   "source": [
    "# v2 ortogonal v3 columnas\n",
    "#seleccionamos la segunda columna de la matriz [:,1] hacemos producto interno con la tercera columna de la matriz [:,2]\n",
    "\n",
    "print(matriz[:,1].dot(matriz[:,2])) # si resultado prod inter es 0, son ortogonales"
   ]
  },
  {
   "cell_type": "code",
   "execution_count": 12,
   "id": "e88b6e0f",
   "metadata": {},
   "outputs": [
    {
     "name": "stdout",
     "output_type": "stream",
     "text": [
      "1.0\n",
      "1.0\n",
      "1.0\n"
     ]
    }
   ],
   "source": [
    "# validamos las normas de cada vector sean igual a 1 \n",
    "\n",
    "print(np.linalg.norm(matriz[:,0]))\n",
    "print(np.linalg.norm(matriz[:,1]))\n",
    "print(np.linalg.norm(matriz[:,2]))"
   ]
  },
  {
   "cell_type": "code",
   "execution_count": 14,
   "id": "1210dabb",
   "metadata": {},
   "outputs": [],
   "source": [
    "#Necesitaremos realizar 3 verificaciones por filas porque la matriz es 3x3\n",
    "# v1 ortogonal v2\n",
    "# v1 ortogonal v3\n",
    "# v2 ortogonal v3"
   ]
  },
  {
   "cell_type": "code",
   "execution_count": 16,
   "id": "b95ee137",
   "metadata": {},
   "outputs": [
    {
     "name": "stdout",
     "output_type": "stream",
     "text": [
      "0\n"
     ]
    }
   ],
   "source": [
    "# v1 ortogonal v2 fiilas\n",
    "#seleccionamos la primer fila de la matriz [0,:] hacemos producto interno con la segunda fila de la matriz [1,:]\n",
    "\n",
    "print(matriz[0,:].dot(matriz[1,:])) # si resultado prod inter es 0, son ortogonales"
   ]
  },
  {
   "cell_type": "code",
   "execution_count": 19,
   "id": "f8b9f250",
   "metadata": {},
   "outputs": [
    {
     "name": "stdout",
     "output_type": "stream",
     "text": [
      "0\n"
     ]
    }
   ],
   "source": [
    "# v1 ortogonal v3 fiilas\n",
    "#seleccionamos la primer fila de la matriz [0,:] hacemos producto interno con la tercera fila de la matriz [2,:]\n",
    "\n",
    "print(matriz[0,:].dot(matriz[2,:])) # si resultado prod inter es 0, son ortogonales"
   ]
  },
  {
   "cell_type": "code",
   "execution_count": 20,
   "id": "4ff0ef7d",
   "metadata": {},
   "outputs": [
    {
     "name": "stdout",
     "output_type": "stream",
     "text": [
      "0\n"
     ]
    }
   ],
   "source": [
    "# v2 ortogonal v3 fiilas\n",
    "#seleccionamos la segunda fila de la matriz [1,:] hacemos producto interno con la tercera fila de la matriz [2,:]\n",
    "\n",
    "print(matriz[1,:].dot(matriz[2,:])) # si resultado prod inter es 0, son ortogonales"
   ]
  },
  {
   "cell_type": "code",
   "execution_count": 21,
   "id": "25556293",
   "metadata": {},
   "outputs": [
    {
     "name": "stdout",
     "output_type": "stream",
     "text": [
      "1.0\n",
      "1.0\n",
      "1.0\n"
     ]
    }
   ],
   "source": [
    "# validamos las normas de cada vector de filas sean igual a 1 \n",
    "\n",
    "print(np.linalg.norm(matriz[0,:]))\n",
    "print(np.linalg.norm(matriz[1,:]))\n",
    "print(np.linalg.norm(matriz[2,:]))"
   ]
  },
  {
   "cell_type": "code",
   "execution_count": 22,
   "id": "8b08d65c",
   "metadata": {},
   "outputs": [
    {
     "name": "stdout",
     "output_type": "stream",
     "text": [
      "[[ 0.86231887  0.50636564]\n",
      " [-0.50636564  0.86231887]]\n"
     ]
    }
   ],
   "source": [
    "# Vamos a generar matrices ortogonales:\n",
    "\n",
    "A = np.array([[np.cos(100), -np.sin(100)], # defiinimos una matriz mediante funciones coseno y seno\n",
    "              [np.sin(100), np.cos(100)]\n",
    "             ])\n",
    "\n",
    "print(A)"
   ]
  },
  {
   "cell_type": "code",
   "execution_count": 24,
   "id": "1a3eed0a",
   "metadata": {},
   "outputs": [
    {
     "name": "stdout",
     "output_type": "stream",
     "text": [
      "0.9999999999999999\n",
      "0.9999999999999999\n",
      "0.9999999999999999\n",
      "0.9999999999999999\n"
     ]
    }
   ],
   "source": [
    "# calculamos las normas por filas y columnas de la matriz\n",
    "\n",
    "print(np.linalg.norm(A[0,:]))\n",
    "print(np.linalg.norm(A[1,:]))\n",
    "print(np.linalg.norm(A[:,0]))\n",
    "print(np.linalg.norm(A[:,1]))"
   ]
  },
  {
   "cell_type": "code",
   "execution_count": 27,
   "id": "a9fb9f28",
   "metadata": {},
   "outputs": [
    {
     "name": "stdout",
     "output_type": "stream",
     "text": [
      "0.0\n",
      "0.0\n"
     ]
    }
   ],
   "source": [
    "# calculamos angulo 90 entre vectores, mediante producto interno entre filas y entre columnas\n",
    "\n",
    "print(A[0,:].dot(A[1,:]))\n",
    "print(A[:,0].dot(A[:,1]))\n",
    "\n",
    "# Resultado arroja que son ortogonales ;ángulo 90°"
   ]
  },
  {
   "cell_type": "code",
   "execution_count": 30,
   "id": "dd026cbf",
   "metadata": {},
   "outputs": [
    {
     "name": "stdout",
     "output_type": "stream",
     "text": [
      "[[1. 0.]\n",
      " [0. 1.]]\n",
      "[[1. 0.]\n",
      " [0. 1.]]\n"
     ]
    }
   ],
   "source": [
    "# Calcularemos producto inteno de la trspuesta de la matriz y la matriz, y viceversa.\n",
    "\n",
    "A_t = A.T\n",
    "print(A_t.dot(A))\n",
    "print(A.dot(A_t))\n",
    "\n",
    "# El resultado arroja la matriz identidad de la matriz A"
   ]
  },
  {
   "cell_type": "code",
   "execution_count": 31,
   "id": "471520cd",
   "metadata": {},
   "outputs": [
    {
     "name": "stdout",
     "output_type": "stream",
     "text": [
      "[[ 0.86231887 -0.50636564]\n",
      " [ 0.50636564  0.86231887]]\n"
     ]
    }
   ],
   "source": [
    "A_inv = np.linalg.inv(A)\n",
    "print(A_inv)"
   ]
  },
  {
   "cell_type": "code",
   "execution_count": 32,
   "id": "9e6605b5",
   "metadata": {},
   "outputs": [
    {
     "name": "stdout",
     "output_type": "stream",
     "text": [
      "[[ 0.86231887 -0.50636564]\n",
      " [ 0.50636564  0.86231887]]\n"
     ]
    }
   ],
   "source": [
    "print(A_t)"
   ]
  },
  {
   "cell_type": "code",
   "execution_count": 33,
   "id": "70f0c550",
   "metadata": {},
   "outputs": [
    {
     "name": "stdout",
     "output_type": "stream",
     "text": [
      "[[ 1. inf]\n",
      " [inf  1.]]\n"
     ]
    },
    {
     "name": "stderr",
     "output_type": "stream",
     "text": [
      "C:\\Users\\jam\\anaconda3\\envs\\Platzi-FundamentosAL\\lib\\site-packages\\ipykernel_launcher.py:1: RuntimeWarning: divide by zero encountered in true_divide\n",
      "  \"\"\"Entry point for launching an IPython kernel.\n"
     ]
    }
   ],
   "source": [
    "print(1/A_t.dot(A))\n",
    "\n",
    "# arrojar;á dos n;úmeros infinitos en la matriz resultante \"inf\""
   ]
  },
  {
   "cell_type": "code",
   "execution_count": null,
   "id": "caa68952",
   "metadata": {},
   "outputs": [],
   "source": []
  }
 ],
 "metadata": {
  "kernelspec": {
   "display_name": "Python 3 (ipykernel)",
   "language": "python",
   "name": "python3"
  },
  "language_info": {
   "codemirror_mode": {
    "name": "ipython",
    "version": 3
   },
   "file_extension": ".py",
   "mimetype": "text/x-python",
   "name": "python",
   "nbconvert_exporter": "python",
   "pygments_lexer": "ipython3",
   "version": "3.7.1"
  }
 },
 "nbformat": 4,
 "nbformat_minor": 5
}
