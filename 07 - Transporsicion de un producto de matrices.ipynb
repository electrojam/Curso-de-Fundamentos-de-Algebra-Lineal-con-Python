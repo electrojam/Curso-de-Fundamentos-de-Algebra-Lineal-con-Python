{
 "cells": [
  {
   "cell_type": "code",
   "execution_count": 1,
   "id": "ede3a412-c77b-47f9-86cb-aefc0cf47ac8",
   "metadata": {},
   "outputs": [],
   "source": [
    "import numpy as np"
   ]
  },
  {
   "cell_type": "code",
   "execution_count": 2,
   "id": "a56b0db5-312c-4e4c-804e-6622f5d3f7ec",
   "metadata": {},
   "outputs": [],
   "source": [
    "A = np.array([[2,3],[5,7],[11,13]])\n",
    "B = np.array([[1,3],[2,1]])"
   ]
  },
  {
   "cell_type": "code",
   "execution_count": 4,
   "id": "e2126958-007f-449d-b087-13685cd31327",
   "metadata": {},
   "outputs": [
    {
     "name": "stdout",
     "output_type": "stream",
     "text": [
      "[[ 2  3]\n",
      " [ 5  7]\n",
      " [11 13]]\n",
      "[[1 3]\n",
      " [2 1]]\n"
     ]
    }
   ],
   "source": [
    "print(A)\n",
    "print(B)"
   ]
  },
  {
   "cell_type": "code",
   "execution_count": 5,
   "id": "2b07eae8-7097-4419-924d-b50a78a23cce",
   "metadata": {},
   "outputs": [],
   "source": [
    "AB_t = A.dot(B).T"
   ]
  },
  {
   "cell_type": "code",
   "execution_count": 6,
   "id": "547d91ac-2a15-427e-8f04-5206598ec956",
   "metadata": {},
   "outputs": [],
   "source": [
    "B_t_A_t = B.T.dot(A.T)"
   ]
  },
  {
   "cell_type": "code",
   "execution_count": 7,
   "id": "c999b3d6-181f-422d-81b2-8067552403e2",
   "metadata": {},
   "outputs": [
    {
     "name": "stdout",
     "output_type": "stream",
     "text": [
      "[[ 8 19 37]\n",
      " [ 9 22 46]]\n",
      "[[ 8 19 37]\n",
      " [ 9 22 46]]\n"
     ]
    }
   ],
   "source": [
    "print(AB_t)\n",
    "print(B_t_A_t)"
   ]
  },
  {
   "cell_type": "code",
   "execution_count": 8,
   "id": "3401dd6b-ebe8-4809-9940-974d3de9a1fd",
   "metadata": {},
   "outputs": [
    {
     "name": "stdout",
     "output_type": "stream",
     "text": [
      "[[ True  True  True]\n",
      " [ True  True  True]]\n"
     ]
    }
   ],
   "source": [
    "print(AB_t==B_t_A_t)"
   ]
  },
  {
   "cell_type": "code",
   "execution_count": null,
   "id": "02be5045-ceae-40ec-80fc-f4096905e6e3",
   "metadata": {},
   "outputs": [],
   "source": []
  }
 ],
 "metadata": {
  "kernelspec": {
   "display_name": "Python 3 (ipykernel)",
   "language": "python",
   "name": "python3"
  },
  "language_info": {
   "codemirror_mode": {
    "name": "ipython",
    "version": 3
   },
   "file_extension": ".py",
   "mimetype": "text/x-python",
   "name": "python",
   "nbconvert_exporter": "python",
   "pygments_lexer": "ipython3",
   "version": "3.11.7"
  }
 },
 "nbformat": 4,
 "nbformat_minor": 5
}
