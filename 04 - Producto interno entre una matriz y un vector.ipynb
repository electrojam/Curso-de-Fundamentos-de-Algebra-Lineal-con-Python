{
 "cells": [
  {
   "cell_type": "code",
   "execution_count": 1,
   "id": "e2dcbafd-ea1a-441a-82e1-7fdd78ad6428",
   "metadata": {},
   "outputs": [],
   "source": [
    "import numpy as np"
   ]
  },
  {
   "cell_type": "code",
   "execution_count": 7,
   "id": "ac41003c-37af-4cb4-9466-94a2a81d5e7b",
   "metadata": {},
   "outputs": [],
   "source": [
    "escalar = 5.679\n",
    "vector = np.array([2,3])\n",
    "matriz = np.array([[1,2],[3,4],[5,6]])"
   ]
  },
  {
   "cell_type": "code",
   "execution_count": 8,
   "id": "1777616f-24a7-46f9-a9c6-fe30eecfe6a3",
   "metadata": {},
   "outputs": [],
   "source": [
    "A = matriz * vector"
   ]
  },
  {
   "cell_type": "code",
   "execution_count": 9,
   "id": "3e01e40c-837a-4915-bbbc-3133e1d13087",
   "metadata": {},
   "outputs": [],
   "source": [
    "B = matriz.dot(vector)"
   ]
  },
  {
   "cell_type": "code",
   "execution_count": 10,
   "id": "8b3262de-ce5a-4931-9e5f-5eadd4042815",
   "metadata": {},
   "outputs": [
    {
     "name": "stdout",
     "output_type": "stream",
     "text": [
      "[[ 2  6]\n",
      " [ 6 12]\n",
      " [10 18]]\n"
     ]
    }
   ],
   "source": [
    "print(A)"
   ]
  },
  {
   "cell_type": "code",
   "execution_count": 11,
   "id": "7f52418e-08af-40b9-9555-02006533310e",
   "metadata": {},
   "outputs": [
    {
     "name": "stdout",
     "output_type": "stream",
     "text": [
      "[ 8 18 28]\n"
     ]
    }
   ],
   "source": [
    "print(B)"
   ]
  },
  {
   "cell_type": "code",
   "execution_count": 12,
   "id": "b9a00d80-6ea7-40e0-b621-2a97995aae00",
   "metadata": {},
   "outputs": [],
   "source": [
    "B = matriz.dot(vector)\n",
    "C = np.dot(matriz, vector)"
   ]
  },
  {
   "cell_type": "code",
   "execution_count": 16,
   "id": "ac8df853-5c0b-445d-b0bc-6fa1693817a4",
   "metadata": {},
   "outputs": [
    {
     "name": "stdout",
     "output_type": "stream",
     "text": [
      "[ 8 18 28]\n",
      "[ 8 18 28]\n"
     ]
    }
   ],
   "source": [
    "print(B)\n",
    "print(C)"
   ]
  },
  {
   "cell_type": "code",
   "execution_count": 20,
   "id": "5aa8088f-3ec2-44e1-8602-12596fe94ff3",
   "metadata": {},
   "outputs": [
    {
     "name": "stdout",
     "output_type": "stream",
     "text": [
      "[22 28]\n"
     ]
    }
   ],
   "source": [
    "# reto vector.dot(matriz)\n",
    "\n",
    "vector = np.array([1,2,3])\n",
    "matriz = np.array([[1,2],[3,4],[5,6]])\n",
    "\n",
    "D = vector.dot(matriz)\n",
    "\n",
    "print(D)"
   ]
  }
 ],
 "metadata": {
  "kernelspec": {
   "display_name": "Python 3 (ipykernel)",
   "language": "python",
   "name": "python3"
  },
  "language_info": {
   "codemirror_mode": {
    "name": "ipython",
    "version": 3
   },
   "file_extension": ".py",
   "mimetype": "text/x-python",
   "name": "python",
   "nbconvert_exporter": "python",
   "pygments_lexer": "ipython3",
   "version": "3.11.7"
  }
 },
 "nbformat": 4,
 "nbformat_minor": 5
}
