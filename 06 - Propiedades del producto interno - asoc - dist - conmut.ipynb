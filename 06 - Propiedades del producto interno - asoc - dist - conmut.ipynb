{
 "cells": [
  {
   "cell_type": "code",
   "execution_count": 1,
   "id": "d35c1f6f-fc01-47bd-998b-84bd62d4e233",
   "metadata": {},
   "outputs": [],
   "source": [
    "import numpy as np"
   ]
  },
  {
   "cell_type": "code",
   "execution_count": 2,
   "id": "7f41484b-b8cc-4679-88d9-ec3dc68d1c25",
   "metadata": {},
   "outputs": [],
   "source": [
    "A = np.array([[2,3],[5,7],[11,13]])\n",
    "B = np.array([[1,3],[2,1]])\n",
    "C = np.array([[3,1],[4,2]])"
   ]
  },
  {
   "cell_type": "code",
   "execution_count": 5,
   "id": "1cfcba42-1c8c-4159-984e-c823a803e6cf",
   "metadata": {},
   "outputs": [
    {
     "name": "stdout",
     "output_type": "stream",
     "text": [
      "[[ 60  26]\n",
      " [145  63]\n",
      " [295 129]]\n"
     ]
    }
   ],
   "source": [
    "# Asociativa Ax(BxC) = (AxB)xC\n",
    "\n",
    "A_BC = A.dot(B.dot(C))\n",
    "print(A_BC)"
   ]
  },
  {
   "cell_type": "code",
   "execution_count": 6,
   "id": "fd64993f-83bc-47d4-aec0-a4b3c8da0709",
   "metadata": {},
   "outputs": [
    {
     "name": "stdout",
     "output_type": "stream",
     "text": [
      "[[ 60  26]\n",
      " [145  63]\n",
      " [295 129]]\n"
     ]
    }
   ],
   "source": [
    "AB_C = A.dot(B).dot(C)\n",
    "print(AB_C)"
   ]
  },
  {
   "cell_type": "code",
   "execution_count": 8,
   "id": "62b1c160-41c1-498b-a218-a9cac647a1b2",
   "metadata": {},
   "outputs": [
    {
     "name": "stdout",
     "output_type": "stream",
     "text": [
      "[[ 26  17]\n",
      " [ 62  41]\n",
      " [122  83]]\n",
      "[[ 26  17]\n",
      " [ 62  41]\n",
      " [122  83]]\n"
     ]
    }
   ],
   "source": [
    "# Distritutiva Ax(B+C) = (AxB + AxC)\n",
    "\n",
    "D = A.dot(B+C)\n",
    "E = A.dot(B) + A.dot(C)\n",
    "print(D)\n",
    "print(E)"
   ]
  },
  {
   "cell_type": "code",
   "execution_count": 9,
   "id": "77da34d5-38fd-4ff6-ba48-6ac88d75011a",
   "metadata": {},
   "outputs": [
    {
     "name": "stdout",
     "output_type": "stream",
     "text": [
      "[[ True  True]\n",
      " [ True  True]\n",
      " [ True  True]]\n"
     ]
    }
   ],
   "source": [
    "# forma para verificar coincidencia entre matrices, elemento a elemento\n",
    "\n",
    "print(D==E)"
   ]
  },
  {
   "cell_type": "code",
   "execution_count": 10,
   "id": "92593dcd-121b-499d-b151-b2b3000d5e4c",
   "metadata": {},
   "outputs": [],
   "source": [
    "# Conmutativa BxC = CxB\n",
    "\n",
    "F = B.dot(C)"
   ]
  },
  {
   "cell_type": "code",
   "execution_count": 11,
   "id": "6ef92e30-93ce-4351-9b88-b8dff444e26f",
   "metadata": {},
   "outputs": [],
   "source": [
    "G = C.dot(B)"
   ]
  },
  {
   "cell_type": "code",
   "execution_count": 12,
   "id": "1dcb2922-c6a4-47cf-bd7b-89983d00f96d",
   "metadata": {},
   "outputs": [
    {
     "name": "stdout",
     "output_type": "stream",
     "text": [
      "[[False False]\n",
      " [False False]]\n"
     ]
    }
   ],
   "source": [
    "print(F==G)"
   ]
  },
  {
   "cell_type": "code",
   "execution_count": 13,
   "id": "4a075cd6-07a2-4377-87aa-8108107c8d2d",
   "metadata": {},
   "outputs": [
    {
     "name": "stdout",
     "output_type": "stream",
     "text": [
      "[[15  7]\n",
      " [10  4]]\n"
     ]
    }
   ],
   "source": [
    "print(F)"
   ]
  },
  {
   "cell_type": "code",
   "execution_count": 14,
   "id": "22197b88-5bde-4e36-a21c-4c2d7f70e6a8",
   "metadata": {},
   "outputs": [
    {
     "name": "stdout",
     "output_type": "stream",
     "text": [
      "[[ 5 10]\n",
      " [ 8 14]]\n"
     ]
    }
   ],
   "source": [
    "print(G)"
   ]
  },
  {
   "cell_type": "code",
   "execution_count": null,
   "id": "60b93343-36c7-487a-92bc-2577e349fce4",
   "metadata": {},
   "outputs": [],
   "source": [
    "# multiplicaci;ón de vectores si es conmutativa\n",
    "\n",
    "v1 = np.array([[2],[7]])\n",
    "v2 = np.array([[3],[]])"
   ]
  }
 ],
 "metadata": {
  "kernelspec": {
   "display_name": "Python 3 (ipykernel)",
   "language": "python",
   "name": "python3"
  },
  "language_info": {
   "codemirror_mode": {
    "name": "ipython",
    "version": 3
   },
   "file_extension": ".py",
   "mimetype": "text/x-python",
   "name": "python",
   "nbconvert_exporter": "python",
   "pygments_lexer": "ipython3",
   "version": "3.11.7"
  }
 },
 "nbformat": 4,
 "nbformat_minor": 5
}
