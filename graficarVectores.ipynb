{
 "cells": [
  {
   "cell_type": "code",
   "execution_count": null,
   "id": "a53a30cd-c032-4ec5-b59a-112629a04985",
   "metadata": {},
   "outputs": [],
   "source": [
    "#funci;ón para graficar vector\n",
    "def graficarVectores(vecs, colors, alpha=1):\n",
    "    plt.figure()\n",
    "    plt.axvline(x=0, color=\"grey\", zorder=0)\n",
    "    plt.axhline(y=0, color=\"grey\", zorder=0)\n",
    "    \n",
    "    for i in range(len(vecs)): #tomamos cada vector y los recorre\n",
    "        x = np.concatenate([[0,0], vecs[i]]) #todos nuetors vectore que vemos tendr;án como origen 0,0 en plano cartesiano\n",
    "        plt.quiver([x[0]],\n",
    "                   [x[1]],\n",
    "                   [x[2]],\n",
    "                   [x[3]],\n",
    "                    angles='xy', scale_units='xy', scale=1, color=colors[i],\n",
    "                   alpha = alpha\n",
    "        )"
   ]
  }
 ],
 "metadata": {
  "kernelspec": {
   "display_name": "Python 3 (ipykernel)",
   "language": "python",
   "name": "python3"
  },
  "language_info": {
   "codemirror_mode": {
    "name": "ipython",
    "version": 3
   },
   "file_extension": ".py",
   "mimetype": "text/x-python",
   "name": "python",
   "nbconvert_exporter": "python",
   "pygments_lexer": "ipython3",
   "version": "3.11.7"
  }
 },
 "nbformat": 4,
 "nbformat_minor": 5
}
