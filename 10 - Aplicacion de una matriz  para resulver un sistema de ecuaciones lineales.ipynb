{
 "cells": [
  {
   "cell_type": "code",
   "execution_count": 1,
   "id": "df86b152-e76a-43dd-8e68-4b488e12731d",
   "metadata": {},
   "outputs": [],
   "source": [
    "import numpy as np"
   ]
  },
  {
   "cell_type": "code",
   "execution_count": 2,
   "id": "13cf792c-37d7-4ebe-90c4-d388b0cee47a",
   "metadata": {},
   "outputs": [],
   "source": [
    "#decimos a numpy que utilize 0 cuadno valor decimal sea muy pequeño.\n",
    "np.set_printoptions(suppress=True)"
   ]
  },
  {
   "cell_type": "code",
   "execution_count": 3,
   "id": "8be5fa27-e2ab-481c-826d-9d3561b00705",
   "metadata": {},
   "outputs": [
    {
     "name": "stdout",
     "output_type": "stream",
     "text": [
      "[[3 1]\n",
      " [2 1]]\n"
     ]
    }
   ],
   "source": [
    "A = np.array([[3,1],[2,1]])\n",
    "print(A)"
   ]
  },
  {
   "cell_type": "code",
   "execution_count": 4,
   "id": "d946660f-e7e0-4fad-9edc-39b8710a89be",
   "metadata": {},
   "outputs": [
    {
     "name": "stdout",
     "output_type": "stream",
     "text": [
      "[[1]\n",
      " [1]]\n"
     ]
    }
   ],
   "source": [
    "B = np.array([[1],[1]])\n",
    "print(B)"
   ]
  },
  {
   "cell_type": "code",
   "execution_count": 6,
   "id": "e04e7569-83d3-4b7b-9593-1c42b379373e",
   "metadata": {},
   "outputs": [
    {
     "name": "stdout",
     "output_type": "stream",
     "text": [
      "[[ 1. -1.]\n",
      " [-2.  3.]]\n"
     ]
    }
   ],
   "source": [
    "inversa_A = np.linalg.inv(A)\n",
    "print(inversa_A)"
   ]
  },
  {
   "cell_type": "code",
   "execution_count": 8,
   "id": "f80397f0-e23f-43a3-af9d-bc03a67ec127",
   "metadata": {},
   "outputs": [
    {
     "name": "stdout",
     "output_type": "stream",
     "text": [
      "[[0.]\n",
      " [1.]]\n"
     ]
    }
   ],
   "source": [
    "#hallamos nuestra x = B.A-1\n",
    "x = inversa_A.dot(B)\n",
    "print(x)"
   ]
  },
  {
   "cell_type": "code",
   "execution_count": 9,
   "id": "3a01b830-57cc-4abb-b178-ca0932db0944",
   "metadata": {},
   "outputs": [
    {
     "name": "stdout",
     "output_type": "stream",
     "text": [
      "[[1.]\n",
      " [1.]]\n"
     ]
    }
   ],
   "source": [
    "#verificamos que efectivamente x es la soluci;ón a nuestro problema\n",
    "\n",
    "print(A.dot(x))"
   ]
  },
  {
   "cell_type": "code",
   "execution_count": 10,
   "id": "5f20f0e0-d0b3-4650-8f15-05eb4f0585bb",
   "metadata": {},
   "outputs": [
    {
     "name": "stdout",
     "output_type": "stream",
     "text": [
      "[[-4.]\n",
      " [15.]]\n"
     ]
    }
   ],
   "source": [
    "#si tenemos la ecuaci;ón igualada a otros coefecientes nos sirve la misma inversa\n",
    "#3x+y=3\n",
    "#2x+y=7\n",
    "\n",
    "sol_2 = inversa_A.dot(np.array([[3],[7]]))\n",
    "print(sol_2)"
   ]
  },
  {
   "cell_type": "code",
   "execution_count": 11,
   "id": "ee8bae1f-bf98-4c92-84eb-2bf4e7286f6a",
   "metadata": {},
   "outputs": [
    {
     "name": "stdout",
     "output_type": "stream",
     "text": [
      "[[3.]\n",
      " [7.]]\n"
     ]
    }
   ],
   "source": [
    "print(A.dot(sol_2))"
   ]
  },
  {
   "cell_type": "code",
   "execution_count": null,
   "id": "d07d3faa-a7dd-43d8-bf09-cd260151ef27",
   "metadata": {},
   "outputs": [],
   "source": []
  }
 ],
 "metadata": {
  "kernelspec": {
   "display_name": "Python 3 (ipykernel)",
   "language": "python",
   "name": "python3"
  },
  "language_info": {
   "codemirror_mode": {
    "name": "ipython",
    "version": 3
   },
   "file_extension": ".py",
   "mimetype": "text/x-python",
   "name": "python",
   "nbconvert_exporter": "python",
   "pygments_lexer": "ipython3",
   "version": "3.11.7"
  }
 },
 "nbformat": 4,
 "nbformat_minor": 5
}
